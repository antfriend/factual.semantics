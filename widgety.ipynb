{
 "cells": [
  {
   "cell_type": "code",
   "execution_count": null,
   "metadata": {},
   "outputs": [],
   "source": [
    "%pip install -q ipywidgets\n",
    "import ipywidgets as widgets\n",
    "from IPython.display import YouTubeVideo\n",
    "\n",
    "out = widgets.Output(layout={'border': '3px solid green'})\n",
    "with out:\n",
    "    display(YouTubeVideo('eWzY2nGfkXk'))\n",
    "out"
   ]
  }
 ],
 "metadata": {
  "language_info": {
   "name": "python"
  },
  "orig_nbformat": 4
 },
 "nbformat": 4,
 "nbformat_minor": 2
}
