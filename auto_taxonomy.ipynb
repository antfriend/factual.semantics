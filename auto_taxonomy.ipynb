{
 "cells": [
  {
   "cell_type": "markdown",
   "metadata": {},
   "source": [
    "# 🖖🏼 Semantic Focus for Understanding Healthcare Content   \n",
    "Semantically inferring the meaningful UMLS concept entities recognized from PubMed content using semantic alignment. A summary diagram of the data is in the [README.md](README.md).   \n",
    "The subject of \"mindfulness\" is the focus in this example.   \n",
    "\n",
    "Applications include content summarization, search, and AI."
   ]
  },
  {
   "cell_type": "markdown",
   "metadata": {},
   "source": [
    "### Semantic Focus\n",
    "The UMLS semantic types selected for the target medical focus are:\n",
    " * topp | T061 | Therapeutic or Preventive Procedure\n",
    " * menp | T041 | Mental Process\n",
    "\n",
    " These are selected from the broader spectrum of the 127 possible semantic types that summarize the field of medicine. [Semantic Types](SemanticTypes_2018AB.txt)   \n",
    " \n",
    " Our [Semantic Focus](SemanticFocus.txt) is on mental processes and therapies in this example. If, as an alternative example, we were concerned with medications, we would select the pharmacological semantic types to focus on."
   ]
  },
  {
   "cell_type": "markdown",
   "metadata": {},
   "source": [
    "### initial configuration"
   ]
  },
  {
   "cell_type": "code",
   "execution_count": null,
   "metadata": {},
   "outputs": [],
   "source": [
    "%pip install beautifulsoup4\n",
    "%pip install spacy\n",
    "os.system('python -m spacy download en_core_web_sm')"
   ]
  },
  {
   "cell_type": "markdown",
   "metadata": {},
   "source": [
    "### get the pubmed document title and abstract\n",
    "This is a single document example of work that could run on batches of content in a pipeline."
   ]
  },
  {
   "cell_type": "code",
   "execution_count": 43,
   "metadata": {},
   "outputs": [
    {
     "name": "stdout",
     "output_type": "stream",
     "text": [
      "title:\n",
      "What defines mindfulness-based programs? The warp and the weft.\n",
      "\n",
      "abstract(first sentence):\n",
      "There has been an explosion of interest in mindfulness-based programs (MBPs) such as Mindfulness-Based Stress Reduction (MBSR) and Mindfulness-Based Cognitive Therapy.\n"
     ]
    }
   ],
   "source": [
    "import requests\n",
    "import spacy\n",
    "\n",
    "docID = '28031068'\n",
    "pubmedurl='https://pubmed.ncbi.nlm.nih.gov/' + docID + '/?format=pubmed'\n",
    "\n",
    "x = requests.get(pubmedurl)\n",
    "the_html = x.text\n",
    "\n",
    "try: \n",
    "    from BeautifulSoup import BeautifulSoup\n",
    "except ImportError:\n",
    "    from bs4 import BeautifulSoup\n",
    "\n",
    "parsed_html = BeautifulSoup(the_html)\n",
    "pmdoc = parsed_html.body.find('pre')\n",
    "just_the_text = pmdoc.text\n",
    "\n",
    "pubmed_doc_dict = {\n",
    "  \"PMID\": \"id\",\n",
    "  \"TI\": \"Title\",\n",
    "  \"AB\": [],\n",
    "  \"MH\": [],\n",
    "  \"OT\": []\n",
    "}\n",
    "\n",
    "abstract = ''\n",
    "for l in just_the_text.splitlines():\n",
    "    parts = l.split(\"- \")\n",
    "    if(len(parts)==1):\n",
    "        abstract = abstract + ' ' + parts[0].strip()\n",
    "    if(len(parts)==2):\n",
    "        match parts[0].strip():\n",
    "            case 'PMID':\n",
    "                pubmed_doc_dict['PMID'] = parts[1]\n",
    "            case 'TI':\n",
    "                pubmed_doc_dict['TI'] = parts[1]\n",
    "            case 'AB':\n",
    "                abstract = parts[1].strip()\n",
    "            case 'MH':\n",
    "                pubmed_doc_dict['MH'].append(parts[1].strip())\n",
    "            case 'OT':\n",
    "                pubmed_doc_dict['OT'].append(parts[1].strip())\n",
    "\n",
    "nlp = spacy.load(\"en_core_web_sm\")\n",
    "doc = nlp(abstract)\n",
    "sentences = []\n",
    "for sent in doc.sents:\n",
    "    sentences.append(sent)\n",
    "\n",
    "pubmed_doc_dict['AB'] = sentences\n",
    "print('title:')\n",
    "print(pubmed_doc_dict['TI'])\n",
    "print('')\n",
    "print('abstract(first sentence):')\n",
    "print(sentences[0])\n",
    "input_file_name = 'mmlinput.txt'\n",
    "forinputfile = ['title|' + pubmed_doc_dict['TI'], ]\n",
    "with open(input_file_name, 'w') as output:\n",
    "    output.write('title|' + pubmed_doc_dict['TI'] + '\\nabs1|' + str(sentences[0]))"
   ]
  },
  {
   "cell_type": "markdown",
   "metadata": {},
   "source": [
    "### recognize UMLS CUIs\n",
    "as read from 'mmlinput.txt'   \n",
    "\n",
    "The title of a scientific article is assumed(based on experimental evidence) to be the single most representative sentence. We will be focusing on the semantic terms to identify the intent.\n",
    "The first sentence of the abstract is assumed to be most representative of the general intent. The whole abstract and other attributes could still be used later for building index attributes or analytical dimensions."
   ]
  },
  {
   "cell_type": "code",
   "execution_count": 87,
   "metadata": {},
   "outputs": [
    {
     "name": "stdout",
     "output_type": "stream",
     "text": [
      "mmloutput.txt\n",
      "   source                                      label       CUI semname  \\\n",
      "0    abs1                                Mindfulness  C3542996  [menp]   \n",
      "1    abs1                          Cognitive Therapy  C0009244  [topp]   \n",
      "2    abs1                                    Andorra  C0002838  [geoa]   \n",
      "3    abs1                             Blast Injuries  C0005700  [inpo]   \n",
      "4    abs1                                  Explosion  C0015329  [phpr]   \n",
      "5    abs1                                   Programs  C3484370  [ftcn]   \n",
      "6    abs1                   Base - General Qualifier  C1705938  [idcn]   \n",
      "7    abs1                  Basis - conceptual entity  C1527178  [ftcn]   \n",
      "8    abs1                       Mental concentration  C0086045  [menp]   \n",
      "9    abs1                     Mindfulness Relaxation  C2985553  [menp]   \n",
      "10   abs1                                        And  C1515981  [idcn]   \n",
      "11   abs1                                       Have  C3539897  [qlco]   \n",
      "12   abs1                                   Interest  C0543488  [menp]   \n",
      "13   abs1             Medical Device Explosion Issue  C4522129  [fndg]   \n",
      "14   abs1  Meditation-Based Stress Reduction Program  C4527300  [topp]   \n",
      "15   abs1              Programs - Publication Format  C0376691  [inpr]   \n",
      "16   abs1              RelationshipConjunction - and  C1550557  [inpr]   \n",
      "17  title                                Mindfulness  C3542996  [menp]   \n",
      "18  title                                    Andorra  C0002838  [geoa]   \n",
      "19  title                                   Programs  C3484370  [ftcn]   \n",
      "20  title                                        And  C1515981  [idcn]   \n",
      "21  title                   Base - General Qualifier  C1705938  [idcn]   \n",
      "22  title                  Basis - conceptual entity  C1527178  [ftcn]   \n",
      "23  title                       Mental concentration  C0086045  [menp]   \n",
      "24  title              Programs - Publication Format  C0376691  [inpr]   \n",
      "25  title              RelationshipConjunction - and  C1550557  [inpr]   \n",
      "26  title                                  VWA1 gene  C1823652  [gngm]   \n",
      "\n",
      "                                                terms  \n",
      "0   Mindfulness-text-2-\"mindfulness\"--0,\"Mindfulne...  \n",
      "1    Cognitive Therapy-text-36-\"Cognitive Therapy\"--0  \n",
      "2                                AND-text-28-\"and\"--0  \n",
      "3                     explosion-text-0-\"explosion\"--0  \n",
      "4                     Explosion-text-0-\"explosion\"--0  \n",
      "5                       Programs-text-6-\"programs\"--0  \n",
      "6   Based-text-4-\"based\"--0,\"Based\"-text-32-\"Based...  \n",
      "7   Based-text-4-\"based\"--0,\"Based\"-text-32-\"Based...  \n",
      "8   mindfulness-text-2-\"mindfulness\"--0,\"mindfulne...  \n",
      "9   Mindfulness-Based Stress Reduction-text-22-\"Mi...  \n",
      "10                               And-text-28-\"and\"--0  \n",
      "11                                Has-text-0-\"has\"--0  \n",
      "12                      Interest-text-0-\"interest\"--0  \n",
      "13                    Explosion-text-0-\"explosion\"--0  \n",
      "14                             MBSR-text-25-\"MBSR\"--0  \n",
      "15                      Programs-text-6-\"programs\"--0  \n",
      "16                               and-text-28-\"and\"--0  \n",
      "17                Mindfulness-text-0-\"mindfulness\"--0  \n",
      "18                                AND-text-0-\"and\"--0  \n",
      "19                      Programs-text-0-\"programs\"--0  \n",
      "20                                And-text-0-\"and\"--0  \n",
      "21                            Based-text-0-\"based\"--0  \n",
      "22                            Based-text-0-\"based\"--0  \n",
      "23                mindfulness-text-0-\"mindfulness\"--0  \n",
      "24                      Programs-text-0-\"programs\"--0  \n",
      "25                                and-text-0-\"and\"--0  \n",
      "26                              WARP-text-0-\"warp\"--0  \n"
     ]
    }
   ],
   "source": [
    "import os\n",
    "import pandas as pd\n",
    "\n",
    "input_file_name = 'mmlinput.txt'\n",
    "df_mml_in = pd.read_csv(input_file_name, sep='|')\n",
    "\n",
    "os.system('python mmlrestclient.py https://ii.nlm.nih.gov/metamaplite/rest/annotate mmlinput.txt --output mmloutput.txt --docformat sldiwi --resultformat mmi')\n",
    "output_file_name = 'mmloutput.txt'\n",
    "df_mml_out = pd.read_csv(output_file_name, sep='|', names=[\"source\", \"att\", \"score\", \"label\", \"CUI\", \"semname\", \"terms\", \"type\", \"nuther\", \"druther\"])\n",
    "df_mml_out = df_mml_out.drop(df_mml_out.columns[[1, 2, 7, 8, 9]],axis='columns')\n",
    "print(output_file_name)\n",
    "print(df_mml_out)"
   ]
  },
  {
   "cell_type": "markdown",
   "metadata": {},
   "source": [
    "### Observations\n",
    "We can see semantic \"crash blossoms\" in the recognized entities of \"Blast Injuries\" and \"Explosion\" (and even the disasterous \"Medical Device Explosion Issue\") mistaken from the figure of speech which begins the abstract, \"There has been an explosion \" ...\n"
   ]
  },
  {
   "cell_type": "markdown",
   "metadata": {},
   "source": [
    "### filter by semantic focus\n",
    "When we filter by semantic type, we can see clearly that this article is not about exploding medical devices, but is about the concepts of Mindfulness and Cognitive Therapy."
   ]
  },
  {
   "cell_type": "code",
   "execution_count": 88,
   "metadata": {},
   "outputs": [
    {
     "name": "stdout",
     "output_type": "stream",
     "text": [
      "   source                                      label       CUI semname  \\\n",
      "0    abs1                                Mindfulness  C3542996    menp   \n",
      "1    abs1                          Cognitive Therapy  C0009244    topp   \n",
      "8    abs1                       Mental concentration  C0086045    menp   \n",
      "9    abs1                     Mindfulness Relaxation  C2985553    menp   \n",
      "12   abs1                                   Interest  C0543488    menp   \n",
      "14   abs1  Meditation-Based Stress Reduction Program  C4527300    topp   \n",
      "17  title                                Mindfulness  C3542996    menp   \n",
      "23  title                       Mental concentration  C0086045    menp   \n",
      "\n",
      "                                                terms  \n",
      "0   Mindfulness-text-2-\"mindfulness\"--0,\"Mindfulne...  \n",
      "1    Cognitive Therapy-text-36-\"Cognitive Therapy\"--0  \n",
      "8   mindfulness-text-2-\"mindfulness\"--0,\"mindfulne...  \n",
      "9   Mindfulness-Based Stress Reduction-text-22-\"Mi...  \n",
      "12                      Interest-text-0-\"interest\"--0  \n",
      "14                             MBSR-text-25-\"MBSR\"--0  \n",
      "17                Mindfulness-text-0-\"mindfulness\"--0  \n",
      "23                mindfulness-text-0-\"mindfulness\"--0  \n"
     ]
    },
    {
     "data": {
      "text/html": [
       "<div>\n",
       "<style scoped>\n",
       "    .dataframe tbody tr th:only-of-type {\n",
       "        vertical-align: middle;\n",
       "    }\n",
       "\n",
       "    .dataframe tbody tr th {\n",
       "        vertical-align: top;\n",
       "    }\n",
       "\n",
       "    .dataframe thead th {\n",
       "        text-align: right;\n",
       "    }\n",
       "</style>\n",
       "<table border=\"1\" class=\"dataframe\">\n",
       "  <thead>\n",
       "    <tr style=\"text-align: right;\">\n",
       "      <th></th>\n",
       "      <th>source</th>\n",
       "      <th>label</th>\n",
       "      <th>CUI</th>\n",
       "      <th>semname</th>\n",
       "      <th>terms</th>\n",
       "    </tr>\n",
       "  </thead>\n",
       "  <tbody>\n",
       "    <tr>\n",
       "      <th>0</th>\n",
       "      <td>abs1</td>\n",
       "      <td>Mindfulness</td>\n",
       "      <td>C3542996</td>\n",
       "      <td>menp</td>\n",
       "      <td>Mindfulness-text-2-\"mindfulness\"--0,\"Mindfulne...</td>\n",
       "    </tr>\n",
       "    <tr>\n",
       "      <th>1</th>\n",
       "      <td>abs1</td>\n",
       "      <td>Cognitive Therapy</td>\n",
       "      <td>C0009244</td>\n",
       "      <td>topp</td>\n",
       "      <td>Cognitive Therapy-text-36-\"Cognitive Therapy\"--0</td>\n",
       "    </tr>\n",
       "    <tr>\n",
       "      <th>8</th>\n",
       "      <td>abs1</td>\n",
       "      <td>Mental concentration</td>\n",
       "      <td>C0086045</td>\n",
       "      <td>menp</td>\n",
       "      <td>mindfulness-text-2-\"mindfulness\"--0,\"mindfulne...</td>\n",
       "    </tr>\n",
       "    <tr>\n",
       "      <th>9</th>\n",
       "      <td>abs1</td>\n",
       "      <td>Mindfulness Relaxation</td>\n",
       "      <td>C2985553</td>\n",
       "      <td>menp</td>\n",
       "      <td>Mindfulness-Based Stress Reduction-text-22-\"Mi...</td>\n",
       "    </tr>\n",
       "    <tr>\n",
       "      <th>12</th>\n",
       "      <td>abs1</td>\n",
       "      <td>Interest</td>\n",
       "      <td>C0543488</td>\n",
       "      <td>menp</td>\n",
       "      <td>Interest-text-0-\"interest\"--0</td>\n",
       "    </tr>\n",
       "  </tbody>\n",
       "</table>\n",
       "</div>"
      ],
      "text/plain": [
       "   source                   label       CUI semname  \\\n",
       "0    abs1             Mindfulness  C3542996    menp   \n",
       "1    abs1       Cognitive Therapy  C0009244    topp   \n",
       "8    abs1    Mental concentration  C0086045    menp   \n",
       "9    abs1  Mindfulness Relaxation  C2985553    menp   \n",
       "12   abs1                Interest  C0543488    menp   \n",
       "\n",
       "                                                terms  \n",
       "0   Mindfulness-text-2-\"mindfulness\"--0,\"Mindfulne...  \n",
       "1    Cognitive Therapy-text-36-\"Cognitive Therapy\"--0  \n",
       "8   mindfulness-text-2-\"mindfulness\"--0,\"mindfulne...  \n",
       "9   Mindfulness-Based Stress Reduction-text-22-\"Mi...  \n",
       "12                      Interest-text-0-\"interest\"--0  "
      ]
     },
     "execution_count": 88,
     "metadata": {},
     "output_type": "execute_result"
    }
   ],
   "source": [
    "df_semantic_focus = pd.read_csv('SemanticFocus.txt', sep='|', names=[\"semname\", \"id\", \"label\"])\n",
    "# remove a couple noisy chars before comparison\n",
    "df_mml_out.semname = df_mml_out.semname.str.rstrip(']')\n",
    "df_mml_out.semname = df_mml_out.semname.str.lstrip('[')\n",
    "semantic_match = df_mml_out.semname.isin(df_semantic_focus.semname)\n",
    "df_mml_out = df_mml_out[semantic_match]\n",
    "print(df_mml_out)\n",
    "\n",
    "# this triggers a VS Code \"Launch Data Wrangler\" button\n",
    "df_mml_out.head()\n"
   ]
  },
  {
   "cell_type": "markdown",
   "metadata": {},
   "source": [
    "### reference notes ...\n",
    "\n",
    "pyMeSHSim\n",
    "https://pubmed.ncbi.nlm.nih.gov/32552728/\n",
    "https://pymeshsim.readthedocs.io/en/latest/\n",
    "https://github.com/luozhhub/pyMeSHSim <=latest\n",
    "\n",
    "UMLS Semantic Types\n",
    "https://lhncbc.nlm.nih.gov/ii/tools/MetaMap/Docs/SemanticTypes_2018AB.txt\n",
    "more UMLS\n",
    "https://www.nlm.nih.gov/research/umls/new_users/online_learning/UMLST_001.html\n",
    "https://documentation.uts.nlm.nih.gov/rest/rest-api-cookbook/python-scripts.html\n",
    "\n",
    "\"What defines mindfulness-based programs? The warp and the weft\"\n",
    "https://pubmed.ncbi.nlm.nih.gov/28031068/?format=pubmed\n",
    "https://pubmed.ncbi.nlm.nih.gov/28031068/\n",
    "\n",
    "\"Meditators' Non-academic Definition of Mindfulness\"\n",
    "https://pubmed.ncbi.nlm.nih.gov/35634214/?format=pubmed\n",
    "https://pubmed.ncbi.nlm.nih.gov/35634214/\n",
    "https://www.ncbi.nlm.nih.gov/pmc/articles/PMC9127491/\n",
    "\n",
    "pubmed search results\n",
    "https://pubmed.ncbi.nlm.nih.gov/?term=%28mindfulness%29+AND+%28Therapy%2FNarrow%5Bfilter%5D%29&filter=pubt.meta-analysis&filter=pubt.review&filter=pubt.systematicreview&sort=date&format=pubmed&size=10"
   ]
  }
 ],
 "metadata": {
  "kernelspec": {
   "display_name": "Python 3",
   "language": "python",
   "name": "python3"
  },
  "language_info": {
   "codemirror_mode": {
    "name": "ipython",
    "version": 3
   },
   "file_extension": ".py",
   "mimetype": "text/x-python",
   "name": "python",
   "nbconvert_exporter": "python",
   "pygments_lexer": "ipython3",
   "version": "3.10.11"
  },
  "orig_nbformat": 4
 },
 "nbformat": 4,
 "nbformat_minor": 2
}
