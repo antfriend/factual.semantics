{
 "cells": [
  {
   "cell_type": "markdown",
   "metadata": {},
   "source": [
    "🖖🏼 Mindfulness AI (mai)    \n",
    "\n",
    "A novel, optimal (small) language model builder for generating a focused taxonomy of medical content.   \n",
    "Prompted with a natural English input (statement or query), a content (repository) and (explainable taxonomy model) are emitted/generated from (PubMed) content and (UMLS) concepts.   \n",
    "The subject of \"mindfulness\" is generated in this example.\n",
    "The resulting Mindfulness AI is implemented with Algolia search, (here).   \n",
    "\n",
    "\n",
    "\n",
    "[[{Value1:1},{value2:2}],[{value3:3},{value4:4}],.....]   \n",
    "<= for data like that use this =>   \n",
    "value1 = df['column_name'][0][0].get(Value1)   \n"
   ]
  },
  {
   "cell_type": "code",
   "execution_count": 1,
   "metadata": {},
   "outputs": [
    {
     "ename": "NameError",
     "evalue": "name 'df' is not defined",
     "output_type": "error",
     "traceback": [
      "\u001b[1;31m---------------------------------------------------------------------------\u001b[0m",
      "\u001b[1;31mNameError\u001b[0m                                 Traceback (most recent call last)",
      "Cell \u001b[1;32mIn[1], line 9\u001b[0m\n\u001b[0;32m      5\u001b[0m df_data \u001b[39m=\u001b[39m pd\u001b[39m.\u001b[39mread_json(\u001b[39m'\u001b[39m\u001b[39mdata.json\u001b[39m\u001b[39m'\u001b[39m)\n\u001b[0;32m      6\u001b[0m \u001b[39m# [[{Value1:1},{value2:2}],[{value3:3},{value4:4}],.....]\u001b[39;00m\n\u001b[0;32m      7\u001b[0m \u001b[39m# for data like so use\u001b[39;00m\n\u001b[0;32m      8\u001b[0m \u001b[39m# value1 = df['column_name'][0][0].get(Value1)\u001b[39;00m\n\u001b[1;32m----> 9\u001b[0m newdf \u001b[39m=\u001b[39m df\u001b[39m.\u001b[39mdrop(\u001b[39m\"\u001b[39m\u001b[39mqualified\u001b[39m\u001b[39m\"\u001b[39m,axis\u001b[39m=\u001b[39m\u001b[39m'\u001b[39m\u001b[39mcolumns\u001b[39m\u001b[39m'\u001b[39m)\n\u001b[0;32m     11\u001b[0m \u001b[39mprint\u001b[39m(newdf)\n\u001b[0;32m     13\u001b[0m df_data\u001b[39m.\u001b[39mhead()\n",
      "\u001b[1;31mNameError\u001b[0m: name 'df' is not defined"
     ]
    }
   ],
   "source": [
    "import pandas as pd\n",
    "# from urllib.request import urlopen\n",
    "\n",
    "# pd.read_json(\"sample.json\",lines=True,orient='columns')\n",
    "df_data = pd.read_json('data.json')\n",
    "\n",
    "newdf = df_data.drop(\"qualified\",axis='columns')\n",
    "\n",
    "print(newdf)\n",
    "\n",
    "df_data.head()\n",
    "\n",
    "# https://realpython.com/urllib-request/\n",
    "from urllib.request import urlopen\n",
    "response = None\n",
    "try:\n",
    "    response = urlopen(\"https://www.example.com\")\n",
    "except Exception as ex:\n",
    "    print(ex)\n",
    "else:\n",
    "    body = response.read()\n",
    "finally:\n",
    "    if response is not None:\n",
    "        response.close()\n",
    "\n",
    "# with urlopen(\"https://www.example.com\") as response:\n",
    "#     body = response.read()\n"
   ]
  }
 ],
 "metadata": {
  "kernelspec": {
   "display_name": "Python 3",
   "language": "python",
   "name": "python3"
  },
  "language_info": {
   "codemirror_mode": {
    "name": "ipython",
    "version": 3
   },
   "file_extension": ".py",
   "mimetype": "text/x-python",
   "name": "python",
   "nbconvert_exporter": "python",
   "pygments_lexer": "ipython3",
   "version": "3.10.11"
  },
  "orig_nbformat": 4
 },
 "nbformat": 4,
 "nbformat_minor": 2
}
