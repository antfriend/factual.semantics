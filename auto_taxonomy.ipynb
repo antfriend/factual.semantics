{
 "cells": [
  {
   "cell_type": "markdown",
   "metadata": {},
   "source": [
    "# 🖖🏼 Mindfulness AI (mai)    \n",
    "\n",
    "A novel, optimally small language model builder for generating a semantically tuned taxonomy of medical content.   \n",
    "Prompted with a natural English input (statement or query), a content (repository) and (explainable taxonomy model) are emitted/generated from (PubMed) content and (UMLS) concepts.   \n",
    "The subject of \"mindfulness\" is generated in this example.   \n",
    "The resulting Mindfulness AI is implemented with Algolia search, (here).   \n",
    "\n",
    "### query and collect from pubmed\n",
    "\n",
    "### query and collect from UMLS\n",
    "\n",
    "### normalize vectors and generate JSON\n",
    "\n",
    "### generate SVG\n",
    "\n",
    "### notes ...\n",
    "\n",
    "[[{Value1:1},{value2:2}],[{value3:3},{value4:4}],.....]   \n",
    "<= for data like that use this =>   \n",
    "value1 = df['column_name'][0][0].get(Value1)   \n"
   ]
  },
  {
   "cell_type": "code",
   "execution_count": 6,
   "metadata": {},
   "outputs": [
    {
     "name": "stdout",
     "output_type": "stream",
     "text": [
      "  provenance                                                url  \\\n",
      "0     pubmed  https://pubmed.ncbi.nlm.nih.gov/28031068/?form...   \n",
      "1     pubmed  https://pubmed.ncbi.nlm.nih.gov/35634214/?form...   \n",
      "2     github                                             github   \n",
      "3   nlm umls                                           nlm umls   \n",
      "\n",
      "                                               title                bonus  \n",
      "0  What defines mindfulness-based programs? The w...                  NaN  \n",
      "1  Meditators' Non-academic Definition of Mindful...                  NaN  \n",
      "2                                                NaN                  NaN  \n",
      "3                                                NaN  {'name': 'library'}  \n"
     ]
    }
   ],
   "source": [
    "import pandas as pd\n",
    "# from urllib.request import urlopen\n",
    "\n",
    "# pd.read_json(\"sample.json\",lines=True,orient='columns')\n",
    "df_data = pd.read_json('data.json')\n",
    "\n",
    "newdf = df_data.drop(\"qualified\",axis='columns')\n",
    "\n",
    "print(newdf)\n",
    "\n",
    "df_data.head()\n",
    "\n",
    "# https://realpython.com/urllib-request/\n",
    "from urllib.request import urlopen\n",
    "response = None\n",
    "try:\n",
    "    response = urlopen(\"https://www.example.com\")\n",
    "except Exception as ex:\n",
    "    print(ex)\n",
    "else:\n",
    "    body = response.read()\n",
    "finally:\n",
    "    if response is not None:\n",
    "        response.close()\n",
    "\n",
    "# with urlopen(\"https://www.example.com\") as response:\n",
    "#     body = response.read()\n"
   ]
  }
 ],
 "metadata": {
  "kernelspec": {
   "display_name": "Python 3",
   "language": "python",
   "name": "python3"
  },
  "language_info": {
   "codemirror_mode": {
    "name": "ipython",
    "version": 3
   },
   "file_extension": ".py",
   "mimetype": "text/x-python",
   "name": "python",
   "nbconvert_exporter": "python",
   "pygments_lexer": "ipython3",
   "version": "3.10.11"
  },
  "orig_nbformat": 4
 },
 "nbformat": 4,
 "nbformat_minor": 2
}
