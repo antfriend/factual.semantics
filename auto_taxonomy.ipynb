{
 "cells": [
  {
   "cell_type": "markdown",
   "metadata": {},
   "source": [
    "# 🖖🏼 Mindfulness AI (mai) builder    \n",
    "A taxonomy generator for an explainable health AI.\n",
    "A novel, Focused Language Model builder for generating an indexable, semantically tuned taxonomy of medical content.   \n",
    "Prompted with a natural English input (statement or query), a content (repository) and (explainable taxonomy model) are emitted/generated from (PubMed) content and (UMLS) concepts.   \n",
    "The subject of \"how to practice mindfulness\" is generated in this example.   \n",
    "The resulting JSON data model is paginated for efficiency of import to an Algolia index.   \n",
    "The resulting Mindfulness AI is implemented with Algolia search, (here url to Algolia demo UI). "
   ]
  },
  {
   "cell_type": "code",
   "execution_count": null,
   "metadata": {},
   "outputs": [],
   "source": [
    "%pip install -q ipywidgets"
   ]
  },
  {
   "cell_type": "markdown",
   "metadata": {},
   "source": [
    "### query and collect from pubmed\n",
    "\n",
    "### query and collect from UMLS\n",
    "\n",
    "### normalize vectors and generate JSON\n",
    "\n",
    "### generate SVG"
   ]
  },
  {
   "cell_type": "code",
   "execution_count": 4,
   "metadata": {},
   "outputs": [
    {
     "name": "stdout",
     "output_type": "stream",
     "text": [
      "done\n"
     ]
    }
   ],
   "source": [
    "import os \n",
    "os.system('python mmlrestclient.py https://ii.nlm.nih.gov/metamaplite/rest/annotate mmlinput.txt --output mmloutput.txt --docformat sldiwi --resultformat mmi')\n",
    "print('done')\n",
    "# import mmlrestclient as mml\n",
    "\n",
    "# mml mmlrestclient.py https://ii.nlm.nih.gov/metamaplite/rest/annotate mmlinput.txt --output mmloutput.txt --docformat sldiwi --resultformat mmi"
   ]
  },
  {
   "cell_type": "code",
   "execution_count": 11,
   "metadata": {},
   "outputs": [
    {
     "name": "stdout",
     "output_type": "stream",
     "text": [
      "  provenance                                                url  \\\n",
      "0     pubmed  https://pubmed.ncbi.nlm.nih.gov/28031068/?form...   \n",
      "1     pubmed  https://pubmed.ncbi.nlm.nih.gov/35634214/?form...   \n",
      "2     github                                             github   \n",
      "3   nlm umls                                           nlm umls   \n",
      "\n",
      "                                               title                bonus  \n",
      "0  What defines mindfulness-based programs? The w...                  NaN  \n",
      "1  Meditators' Non-academic Definition of Mindful...                  NaN  \n",
      "2                                                NaN                  NaN  \n",
      "3                                                NaN  {'name': 'library'}  \n"
     ]
    },
    {
     "data": {
      "text/html": [
       "<div>\n",
       "<style scoped>\n",
       "    .dataframe tbody tr th:only-of-type {\n",
       "        vertical-align: middle;\n",
       "    }\n",
       "\n",
       "    .dataframe tbody tr th {\n",
       "        vertical-align: top;\n",
       "    }\n",
       "\n",
       "    .dataframe thead th {\n",
       "        text-align: right;\n",
       "    }\n",
       "</style>\n",
       "<table border=\"1\" class=\"dataframe\">\n",
       "  <thead>\n",
       "    <tr style=\"text-align: right;\">\n",
       "      <th></th>\n",
       "      <th>provenance</th>\n",
       "      <th>url</th>\n",
       "      <th>title</th>\n",
       "      <th>qualified</th>\n",
       "      <th>bonus</th>\n",
       "    </tr>\n",
       "  </thead>\n",
       "  <tbody>\n",
       "    <tr>\n",
       "      <th>0</th>\n",
       "      <td>pubmed</td>\n",
       "      <td>https://pubmed.ncbi.nlm.nih.gov/28031068/?form...</td>\n",
       "      <td>What defines mindfulness-based programs? The w...</td>\n",
       "      <td>True</td>\n",
       "      <td>NaN</td>\n",
       "    </tr>\n",
       "    <tr>\n",
       "      <th>1</th>\n",
       "      <td>pubmed</td>\n",
       "      <td>https://pubmed.ncbi.nlm.nih.gov/35634214/?form...</td>\n",
       "      <td>Meditators' Non-academic Definition of Mindful...</td>\n",
       "      <td>True</td>\n",
       "      <td>NaN</td>\n",
       "    </tr>\n",
       "    <tr>\n",
       "      <th>2</th>\n",
       "      <td>github</td>\n",
       "      <td>github</td>\n",
       "      <td>NaN</td>\n",
       "      <td>True</td>\n",
       "      <td>NaN</td>\n",
       "    </tr>\n",
       "    <tr>\n",
       "      <th>3</th>\n",
       "      <td>nlm umls</td>\n",
       "      <td>nlm umls</td>\n",
       "      <td>NaN</td>\n",
       "      <td>False</td>\n",
       "      <td>{'name': 'library'}</td>\n",
       "    </tr>\n",
       "  </tbody>\n",
       "</table>\n",
       "</div>"
      ],
      "text/plain": [
       "  provenance                                                url  \\\n",
       "0     pubmed  https://pubmed.ncbi.nlm.nih.gov/28031068/?form...   \n",
       "1     pubmed  https://pubmed.ncbi.nlm.nih.gov/35634214/?form...   \n",
       "2     github                                             github   \n",
       "3   nlm umls                                           nlm umls   \n",
       "\n",
       "                                               title  qualified  \\\n",
       "0  What defines mindfulness-based programs? The w...       True   \n",
       "1  Meditators' Non-academic Definition of Mindful...       True   \n",
       "2                                                NaN       True   \n",
       "3                                                NaN      False   \n",
       "\n",
       "                 bonus  \n",
       "0                  NaN  \n",
       "1                  NaN  \n",
       "2                  NaN  \n",
       "3  {'name': 'library'}  "
      ]
     },
     "execution_count": 11,
     "metadata": {},
     "output_type": "execute_result"
    }
   ],
   "source": [
    "import pandas as pd\n",
    "# from urllib.request import urlopen\n",
    "# pd.read_json(\"sample.json\",lines=True,orient='columns')\n",
    "df_data = pd.read_json('data.json')\n",
    "\n",
    "newdf = df_data.drop(\"qualified\",axis='columns')\n",
    "\n",
    "print(newdf)\n",
    "\n",
    "df_data.head()\n",
    "\n",
    "# from pypmed import apis \n",
    "\n",
    "# search_criteria = {'author_first_name': 'rachel', \n",
    "#                    'author_last_name': 'gottschalk', \n",
    "#                    'institution':  'university of pittsburgh at pittsburgh',\n",
    "#                    'publication_year': 2022\n",
    "#                    }\n",
    "\n",
    "# api_response = apis.query_pubmed_api(search_criteria=search_criteria)\n",
    "\n",
    "\n",
    "# https://realpython.com/urllib-request/\n",
    "# from urllib.request import urlopen\n",
    "# response = None\n",
    "# try:\n",
    "#     # json https://eutils.ncbi.nlm.nih.gov/entrez/eutils/esearch.fcgi?db=pmc&term=stem+cells+AND+free+fulltext%5bfilter%5d&retmode=json\n",
    "#     # https://www.ncbi.nlm.nih.gov/books/NBK25499/?utm_source=blog&utm_medium=referral&utm_campaign=pubmed-api&utm_term=post1&utm_content=20210929link4#chapter4.ESearch\n",
    "#     # https://eutils.ncbi.nlm.nih.gov/entrez/eutils/esearch.fcgi?db=pubmed&term=%E2%80%9Dasthma%20treatment%E2%80%9D[Title:~3]\n",
    "#     response = urlopen(\"https://eutils.ncbi.nlm.nih.gov/entrez/eutils/esearch.fcgi?db=pmc&term=stem+cells+AND+free+fulltext%5bfilter%5d&retmode=json\")\n",
    "# except Exception as ex:\n",
    "#     print(ex)\n",
    "# else:\n",
    "#     body = response.read()\n",
    "# finally:\n",
    "#     if response is not None:\n",
    "#         response.close()\n",
    "\n",
    "# with urlopen(\"https://www.example.com\") as response:\n",
    "#     body = response.read()\n"
   ]
  },
  {
   "cell_type": "markdown",
   "metadata": {},
   "source": [
    "\n",
    "### notes ...\n",
    "\n",
    "\n",
    "pyMeSHSim\n",
    "https://pubmed.ncbi.nlm.nih.gov/32552728/\n",
    "https://pymeshsim.readthedocs.io/en/latest/\n",
    "https://github.com/luozhhub/pyMeSHSim <=latest\n",
    "\n",
    "\n",
    "UMLS Semantic Types\n",
    "https://lhncbc.nlm.nih.gov/ii/tools/MetaMap/Docs/SemanticTypes_2018AB.txt\n",
    "\n",
    "\n",
    "[[{Value1:1},{value2:2}],[{value3:3},{value4:4}],.....]   \n",
    "<= for data like that use this =>   \n",
    "value1 = df['column_name'][0][0].get(Value1)   \n",
    "\n",
    "\n",
    "health data modeling   \n",
    "novel, focused language modeling   \n",
    "\n",
    "![weird](/weird.svg)\n",
    "\n",
    "Documents to get\n",
    "\n",
    "\"What defines mindfulness-based programs? The warp and the weft\"\n",
    "https://pubmed.ncbi.nlm.nih.gov/28031068/?format=pubmed\n",
    "https://pubmed.ncbi.nlm.nih.gov/28031068/\n",
    "\n",
    "\"Meditators' Non-academic Definition of Mindfulness\"\n",
    "https://pubmed.ncbi.nlm.nih.gov/35634214/?format=pubmed\n",
    "https://pubmed.ncbi.nlm.nih.gov/35634214/\n",
    "https://www.ncbi.nlm.nih.gov/pmc/articles/PMC9127491/\n",
    "\n",
    "UMLS to get\n",
    "\n",
    "https://www.nlm.nih.gov/research/umls/META3_current_semantic_types.html\n",
    "https://www.nlm.nih.gov/research/umls/new_users/online_learning/UMLST_001.html\n",
    "\n",
    "python mmlrestclient.py https://ii-public2vm.nlm.nih.gov/metamaplite/rest/annotate mmlinput.txt --output mmloutput.txt\n",
    "\n",
    "python mmlrestclient.py https://ii.nlm.nih.gov/metamaplite/rest/annotate mmlinput.txt --output mmloutput.txt --docformat sldiwi --resultformat mmi\n",
    "\n"
   ]
  }
 ],
 "metadata": {
  "kernelspec": {
   "display_name": "Python 3",
   "language": "python",
   "name": "python3"
  },
  "language_info": {
   "codemirror_mode": {
    "name": "ipython",
    "version": 3
   },
   "file_extension": ".py",
   "mimetype": "text/x-python",
   "name": "python",
   "nbconvert_exporter": "python",
   "pygments_lexer": "ipython3",
   "version": "3.10.11"
  },
  "orig_nbformat": 4
 },
 "nbformat": 4,
 "nbformat_minor": 2
}
