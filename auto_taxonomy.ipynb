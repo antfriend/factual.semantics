{
 "cells": [
  {
   "cell_type": "markdown",
   "metadata": {},
   "source": [
    "# 🖖🏼 Mindfulness AI (mai) builder    \n",
    "A taxonomy generator for an explainable health AI.\n",
    "A novel, Focused Language Model builder for generating an indexable, semantically tuned taxonomy of medical content.   \n",
    "Prompted with a natural English input (statement or query), a content (repository) and (explainable taxonomy model) are emitted/generated from (PubMed) content and (UMLS) concepts.   \n",
    "The subject of \"how to practice mindfulness\" is generated in this example.   \n",
    "The resulting JSON data model is paginated for efficiency of import to an Algolia index.   \n",
    "The resulting Mindfulness AI is implemented with Algolia search, (here url to Algolia demo UI). "
   ]
  },
  {
   "cell_type": "code",
   "execution_count": 52,
   "metadata": {},
   "outputs": [
    {
     "name": "stdout",
     "output_type": "stream",
     "text": [
      "Note: you may need to restart the kernel to use updated packages.\n",
      "Requirement already satisfied: pypmed in c:\\users\\antfr\\appdata\\local\\packages\\pythonsoftwarefoundation.python.3.10_qbz5n2kfra8p0\\localcache\\local-packages\\python310\\site-packages (0.1.8)Note: you may need to restart the kernel to use updated packages.\n",
      "\n",
      "Requirement already satisfied: rapidfuzz<4.0.0,>=3.0.0 in c:\\users\\antfr\\appdata\\local\\packages\\pythonsoftwarefoundation.python.3.10_qbz5n2kfra8p0\\localcache\\local-packages\\python310\\site-packages (from pypmed) (3.2.0)\n",
      "Requirement already satisfied: requests<3.0.0,>=2.28.2 in c:\\users\\antfr\\appdata\\local\\packages\\pythonsoftwarefoundation.python.3.10_qbz5n2kfra8p0\\localcache\\local-packages\\python310\\site-packages (from pypmed) (2.31.0)\n",
      "Requirement already satisfied: charset-normalizer<4,>=2 in c:\\users\\antfr\\appdata\\local\\packages\\pythonsoftwarefoundation.python.3.10_qbz5n2kfra8p0\\localcache\\local-packages\\python310\\site-packages (from requests<3.0.0,>=2.28.2->pypmed) (2.1.1)\n",
      "Requirement already satisfied: idna<4,>=2.5 in c:\\users\\antfr\\appdata\\local\\packages\\pythonsoftwarefoundation.python.3.10_qbz5n2kfra8p0\\localcache\\local-packages\\python310\\site-packages (from requests<3.0.0,>=2.28.2->pypmed) (3.4)\n",
      "Requirement already satisfied: urllib3<3,>=1.21.1 in c:\\users\\antfr\\appdata\\local\\packages\\pythonsoftwarefoundation.python.3.10_qbz5n2kfra8p0\\localcache\\local-packages\\python310\\site-packages (from requests<3.0.0,>=2.28.2->pypmed) (1.26.12)\n",
      "Requirement already satisfied: certifi>=2017.4.17 in c:\\users\\antfr\\appdata\\local\\packages\\pythonsoftwarefoundation.python.3.10_qbz5n2kfra8p0\\localcache\\local-packages\\python310\\site-packages (from requests<3.0.0,>=2.28.2->pypmed) (2022.9.24)\n",
      "Collecting beautifulsoup4\n",
      "  Downloading beautifulsoup4-4.12.2-py3-none-any.whl (142 kB)\n",
      "     ---------------------------------------- 0.0/143.0 kB ? eta -:--:--\n",
      "     ----------------------------------- -- 133.1/143.0 kB 3.8 MB/s eta 0:00:01\n",
      "     -------------------------------------- 143.0/143.0 kB 4.1 MB/s eta 0:00:00\n",
      "Collecting soupsieve>1.2 (from beautifulsoup4)\n",
      "  Downloading soupsieve-2.4.1-py3-none-any.whl (36 kB)\n",
      "Installing collected packages: soupsieve, beautifulsoup4\n",
      "Successfully installed beautifulsoup4-4.12.2 soupsieve-2.4.1\n",
      "Note: you may need to restart the kernel to use updated packages.\n"
     ]
    }
   ],
   "source": [
    "%pip install -q ipywidgets\n",
    "#%pip install pypmed\n",
    "%pip install beautifulsoup4"
   ]
  },
  {
   "cell_type": "markdown",
   "metadata": {},
   "source": [
    "## get pubmed document"
   ]
  },
  {
   "cell_type": "code",
   "execution_count": 77,
   "metadata": {},
   "outputs": [
    {
     "name": "stdout",
     "output_type": "stream",
     "text": [
      "{'PMID': '28031068', 'TI': 'What defines mindfulness-based programs? The warp and the weft.', 'AB': \"There has been an explosion of interest in mindfulness-based programs (MBPs) such as Mindfulness-Based Stress Reduction (MBSR) and Mindfulness-Based Cognitive Therapy. This is demonstrated in increased research, implementation of MBPs in healthcare, educational, criminal justice and workplace settings, and in mainstream interest. For the sustainable development of the field there is a need to articulate a definition of what an MBP is and what it is not. This paper provides a framework to define the essential characteristics of the family of MBPs originating from the parent program MBSR, and the processes which inform adaptations of MBPs for different populations or contexts. The framework addresses the essential characteristics of the program and of teacher. MBPs: are informed by theories and practices that draw from a confluence of contemplative traditions, science, and the major disciplines of medicine, psychology and education; underpinned by a model of human experience which addresses the causes of human distress and the pathways to relieving it; develop a new relationship with experience characterized by present moment focus, decentering and an approach orientation; catalyze the development of qualities such as joy, compassion, wisdom, equanimity and greater attentional, emotional and behavioral self-regulation, and engage participants in a sustained intensive training in mindfulness meditation practice, in an experiential inquiry-based learning process and in exercises to develop understanding. The paper's aim is to support clarity, which will in turn support the systematic development of MBP research, and the integrity of the field during the process of implementation in the mainstream. University,Brigantia Building,Gwynedd,UK. Society,University of Massachusetts Medical School,Worcester, MA,USA. Society,University of Massachusetts Medical School,Worcester, MA,USA. Society,University of Massachusetts Medical School,Worcester, MA,USA. Oxford, Warneford Hospital,Oxford,UK. Oxford, Warneford Hospital,Oxford,UK. Dec 29.\", 'MH': ['Humans', 'Mindfulness/*methods'], 'OT': ['Fidelity', 'mindfulness-based cognitive therapy', 'mindfulness-based program', 'mindfulness-based stress reduction']}\n"
     ]
    }
   ],
   "source": [
    "import requests\n",
    "docID = '28031068'\n",
    "pubmedurl='https://pubmed.ncbi.nlm.nih.gov/' + docID + '/?format=pubmed'\n",
    "# pubmedurl='https://pubmed.ncbi.nlm.nih.gov/?term=%28mindfulness%29+AND+%28Therapy%2FNarrow%5Bfilter%5D%29&filter=pubt.meta-analysis&filter=pubt.review&filter=pubt.systematicreview&sort=date&format=pubmed&size=10'\n",
    "\n",
    "x = requests.get(pubmedurl)\n",
    "the_html = x.text\n",
    "\n",
    "try: \n",
    "    from BeautifulSoup import BeautifulSoup\n",
    "except ImportError:\n",
    "    from bs4 import BeautifulSoup\n",
    "\n",
    "parsed_html = BeautifulSoup(the_html)\n",
    "pmdoc = parsed_html.body.find('pre')\n",
    "just_the_text = pmdoc.text\n",
    "\n",
    "this_doc_dict = {\n",
    "  \"PMID\": \"id\",\n",
    "  \"TI\": \"Title\",\n",
    "  \"AB\": \"abstract\",\n",
    "  \"MH\": [],\n",
    "  \"OT\": []\n",
    "}\n",
    "abstract = ''\n",
    "for l in just_the_text.splitlines():\n",
    "    parts = l.split(\"- \")\n",
    "    if(len(parts)==1):\n",
    "        abstract = abstract + ' ' + parts[0].strip()\n",
    "    if(len(parts)==2):\n",
    "        match parts[0].strip():\n",
    "            case 'PMID':\n",
    "                this_doc_dict['PMID'] = parts[1]\n",
    "            case 'TI':\n",
    "                this_doc_dict['TI'] = parts[1]\n",
    "            case 'AB':\n",
    "                abstract = parts[1].strip()\n",
    "            case 'MH':\n",
    "                this_doc_dict['MH'].append(parts[1].strip())\n",
    "            case 'OT':\n",
    "                this_doc_dict['OT'].append(parts[1].strip())\n",
    "\n",
    "this_doc_dict['AB'] = abstract\n",
    "\n",
    "print(this_doc_dict)"
   ]
  },
  {
   "cell_type": "code",
   "execution_count": 32,
   "metadata": {},
   "outputs": [
    {
     "name": "stdout",
     "output_type": "stream",
     "text": [
      "mmlinput.txt\n",
      "   t001  mindfulness benefits\n",
      "0  t002  meditation practices\n"
     ]
    },
    {
     "data": {
      "application/vnd.jupyter.widget-view+json": {
       "model_id": "78596cd861834afdbf7405bb6d86a553",
       "version_major": 2,
       "version_minor": 0
      },
      "text/plain": [
       "Output(layout=Layout(border_bottom='3px solid green', border_left='3px solid green', border_right='3px solid g…"
      ]
     },
     "execution_count": 32,
     "metadata": {},
     "output_type": "execute_result"
    }
   ],
   "source": [
    "import os\n",
    "import pandas as pd\n",
    "import ipywidgets as widgets\n",
    "from IPython.display import YouTubeVideo\n",
    "\n",
    "input_file_name = 'mmlinput.txt'\n",
    "df_mml_in = pd.read_csv(input_file_name, sep='|')\n",
    "print(input_file_name)\n",
    "print(df_mml_in)\n",
    "\n",
    "out = widgets.Output(layout={'border': '3px solid green'})\n",
    "#with out:\n",
    "    #display(YouTubeVideo('eWzY2nGfkXk'))\n",
    "out"
   ]
  },
  {
   "cell_type": "markdown",
   "metadata": {},
   "source": [
    "### encode recognizable language as NLM IDs\n",
    "as read from 'mmlinput.txt'"
   ]
  },
  {
   "cell_type": "code",
   "execution_count": 30,
   "metadata": {},
   "outputs": [
    {
     "name": "stdout",
     "output_type": "stream",
     "text": [
      "mmloutput.txt\n",
      "   t001  MMI  3.68                         Mindfulness  C3542996  [menp]\n",
      "0  t001  MMI  0.46                             Benefit  C0814225  [qnco]\n",
      "1  t001  MMI  0.46                Mental concentration  C0086045  [menp]\n",
      "2  t002  MMI  5.99                          meditation  C0150277  [menp]\n",
      "3  t002  MMI  0.46                  Meditation Therapy  C0814263  [topp]\n",
      "4  t002  MMI  0.46                 Practice Experience  C0237607  [menp]\n",
      "5  t002  MMI  0.46  Religious Affiliation - Meditation  C1552052  [fndg]\n"
     ]
    }
   ],
   "source": [
    "os.system('python mmlrestclient.py https://ii.nlm.nih.gov/metamaplite/rest/annotate mmlinput.txt --output mmloutput.txt --docformat sldiwi --resultformat mmi')\n",
    "output_file_name = 'mmloutput.txt'\n",
    "df_mml_out = pd.read_csv(output_file_name, sep='|')\n",
    "df_mml_out = df_mml_out.drop(df_mml_out.columns[[6, 7, 8, 9]], axis=1)\n",
    "print(output_file_name)\n",
    "print(df_mml_out)\n",
    "# df_mml_out.head()\n"
   ]
  },
  {
   "cell_type": "markdown",
   "metadata": {},
   "source": [
    "## collect relevant NLM UMLS CUI attributes"
   ]
  },
  {
   "cell_type": "code",
   "execution_count": null,
   "metadata": {},
   "outputs": [],
   "source": [
    "#get UMLS CUIs\n",
    "# https://documentation.uts.nlm.nih.gov/rest/rest-api-cookbook/python-scripts.html"
   ]
  },
  {
   "cell_type": "markdown",
   "metadata": {},
   "source": [
    "## something here"
   ]
  },
  {
   "cell_type": "code",
   "execution_count": 19,
   "metadata": {},
   "outputs": [
    {
     "name": "stdout",
     "output_type": "stream",
     "text": [
      "   Txt001  MMI  3.68                    Mindfulness  C3542996  [menp]  \\\n",
      "0  Txt001  MMI  1.84              Cognitive Therapy  C0009244  [topp]   \n",
      "1  Txt001  MMI  1.84          Color Blindness, Blue  C0155017  [dsyn]   \n",
      "2  Txt001  MMI  1.38                        Andorra  C0002838  [geoa]   \n",
      "3  Txt001  MMI  0.46                            And  C1515981  [idcn]   \n",
      "4  Txt001  MMI  0.46           Mental concentration  C0086045  [menp]   \n",
      "5  Txt001  MMI  0.46                    OPN1SW gene  C1412770  [gngm]   \n",
      "6  Txt001  MMI  0.46  RelationshipConjunction - and  C1550557  [inpr]   \n",
      "\n",
      "   Mindfulness-text-0-\"mindfulness\"--0  text  0/11  \\\n",
      "0                  CBT-text-0-\"CBT\"--0  text  16/3   \n",
      "1                  CBT-text-0-\"CBT\"--0  text  16/3   \n",
      "2                  AND-text-0-\"and\"--0  text  12/3   \n",
      "3                  And-text-0-\"and\"--0  text  12/3   \n",
      "4  mindfulness-text-0-\"mindfulness\"--0  text  0/11   \n",
      "5                  CBT-text-0-\"CBT\"--0  text  16/3   \n",
      "6                  and-text-0-\"and\"--0  text  12/3   \n",
      "\n",
      "  F02.463.551;F04.754.137.350.500  \n",
      "0                 F04.754.137.350  \n",
      "1                         x.x.x.x  \n",
      "2                     Z01.542.049  \n",
      "3                             NaN  \n",
      "4                             NaN  \n",
      "5                             NaN  \n",
      "6                             NaN  \n",
      "  provenance                                                url  \\\n",
      "0     pubmed  https://pubmed.ncbi.nlm.nih.gov/28031068/?form...   \n",
      "1     pubmed  https://pubmed.ncbi.nlm.nih.gov/35634214/?form...   \n",
      "2     github                                             github   \n",
      "3   nlm umls                                           nlm umls   \n",
      "\n",
      "                                               title                bonus  \n",
      "0  What defines mindfulness-based programs? The w...                  NaN  \n",
      "1  Meditators' Non-academic Definition of Mindful...                  NaN  \n",
      "2                                                NaN                  NaN  \n",
      "3                                                NaN  {'name': 'library'}  \n"
     ]
    },
    {
     "data": {
      "text/html": [
       "<div>\n",
       "<style scoped>\n",
       "    .dataframe tbody tr th:only-of-type {\n",
       "        vertical-align: middle;\n",
       "    }\n",
       "\n",
       "    .dataframe tbody tr th {\n",
       "        vertical-align: top;\n",
       "    }\n",
       "\n",
       "    .dataframe thead th {\n",
       "        text-align: right;\n",
       "    }\n",
       "</style>\n",
       "<table border=\"1\" class=\"dataframe\">\n",
       "  <thead>\n",
       "    <tr style=\"text-align: right;\">\n",
       "      <th></th>\n",
       "      <th>provenance</th>\n",
       "      <th>url</th>\n",
       "      <th>title</th>\n",
       "      <th>qualified</th>\n",
       "      <th>bonus</th>\n",
       "    </tr>\n",
       "  </thead>\n",
       "  <tbody>\n",
       "    <tr>\n",
       "      <th>0</th>\n",
       "      <td>pubmed</td>\n",
       "      <td>https://pubmed.ncbi.nlm.nih.gov/28031068/?form...</td>\n",
       "      <td>What defines mindfulness-based programs? The w...</td>\n",
       "      <td>True</td>\n",
       "      <td>NaN</td>\n",
       "    </tr>\n",
       "    <tr>\n",
       "      <th>1</th>\n",
       "      <td>pubmed</td>\n",
       "      <td>https://pubmed.ncbi.nlm.nih.gov/35634214/?form...</td>\n",
       "      <td>Meditators' Non-academic Definition of Mindful...</td>\n",
       "      <td>True</td>\n",
       "      <td>NaN</td>\n",
       "    </tr>\n",
       "    <tr>\n",
       "      <th>2</th>\n",
       "      <td>github</td>\n",
       "      <td>github</td>\n",
       "      <td>NaN</td>\n",
       "      <td>True</td>\n",
       "      <td>NaN</td>\n",
       "    </tr>\n",
       "    <tr>\n",
       "      <th>3</th>\n",
       "      <td>nlm umls</td>\n",
       "      <td>nlm umls</td>\n",
       "      <td>NaN</td>\n",
       "      <td>False</td>\n",
       "      <td>{'name': 'library'}</td>\n",
       "    </tr>\n",
       "  </tbody>\n",
       "</table>\n",
       "</div>"
      ],
      "text/plain": [
       "  provenance                                                url  \\\n",
       "0     pubmed  https://pubmed.ncbi.nlm.nih.gov/28031068/?form...   \n",
       "1     pubmed  https://pubmed.ncbi.nlm.nih.gov/35634214/?form...   \n",
       "2     github                                             github   \n",
       "3   nlm umls                                           nlm umls   \n",
       "\n",
       "                                               title  qualified  \\\n",
       "0  What defines mindfulness-based programs? The w...       True   \n",
       "1  Meditators' Non-academic Definition of Mindful...       True   \n",
       "2                                                NaN       True   \n",
       "3                                                NaN      False   \n",
       "\n",
       "                 bonus  \n",
       "0                  NaN  \n",
       "1                  NaN  \n",
       "2                  NaN  \n",
       "3  {'name': 'library'}  "
      ]
     },
     "execution_count": 19,
     "metadata": {},
     "output_type": "execute_result"
    }
   ],
   "source": [
    "df_data = pd.read_json('data.json')\n",
    "\n",
    "newdf = df_data.drop(\"qualified\",axis='columns')\n",
    "\n",
    "print(newdf)\n",
    "\n",
    "df_data.head()"
   ]
  },
  {
   "cell_type": "markdown",
   "metadata": {},
   "source": [
    "\n",
    "### notes ...\n",
    "\n",
    "\n",
    "pyMeSHSim\n",
    "https://pubmed.ncbi.nlm.nih.gov/32552728/\n",
    "https://pymeshsim.readthedocs.io/en/latest/\n",
    "https://github.com/luozhhub/pyMeSHSim <=latest\n",
    "\n",
    "\n",
    "UMLS Semantic Types\n",
    "https://lhncbc.nlm.nih.gov/ii/tools/MetaMap/Docs/SemanticTypes_2018AB.txt\n",
    "\n",
    "\n",
    "[[{Value1:1},{value2:2}],[{value3:3},{value4:4}],.....]   \n",
    "<= for data like that use this =>   \n",
    "value1 = df['column_name'][0][0].get(Value1)   \n",
    "\n",
    "\n",
    "health data modeling   \n",
    "novel, focused language modeling   \n",
    "\n",
    "![weird](/weird.svg)\n",
    "\n",
    "Documents to get\n",
    "\n",
    "\"What defines mindfulness-based programs? The warp and the weft\"\n",
    "https://pubmed.ncbi.nlm.nih.gov/28031068/?format=pubmed\n",
    "https://pubmed.ncbi.nlm.nih.gov/28031068/\n",
    "\n",
    "\"Meditators' Non-academic Definition of Mindfulness\"\n",
    "https://pubmed.ncbi.nlm.nih.gov/35634214/?format=pubmed\n",
    "https://pubmed.ncbi.nlm.nih.gov/35634214/\n",
    "https://www.ncbi.nlm.nih.gov/pmc/articles/PMC9127491/\n",
    "\n",
    "UMLS to get\n",
    "\n",
    "https://www.nlm.nih.gov/research/umls/META3_current_semantic_types.html\n",
    "https://www.nlm.nih.gov/research/umls/new_users/online_learning/UMLST_001.html\n",
    "\n",
    "python mmlrestclient.py https://ii-public2vm.nlm.nih.gov/metamaplite/rest/annotate mmlinput.txt --output mmloutput.txt\n",
    "\n",
    "python mmlrestclient.py https://ii.nlm.nih.gov/metamaplite/rest/annotate mmlinput.txt --output mmloutput.txt --docformat sldiwi --resultformat mmi\n",
    "\n",
    "pubmed results\n",
    "https://pubmed.ncbi.nlm.nih.gov/?term=%28mindfulness%29+AND+%28Therapy%2FNarrow%5Bfilter%5D%29&filter=pubt.meta-analysis&filter=pubt.review&filter=pubt.systematicreview&sort=date&format=pubmed&size=10"
   ]
  }
 ],
 "metadata": {
  "kernelspec": {
   "display_name": "Python 3",
   "language": "python",
   "name": "python3"
  },
  "language_info": {
   "codemirror_mode": {
    "name": "ipython",
    "version": 3
   },
   "file_extension": ".py",
   "mimetype": "text/x-python",
   "name": "python",
   "nbconvert_exporter": "python",
   "pygments_lexer": "ipython3",
   "version": "3.10.11"
  },
  "orig_nbformat": 4
 },
 "nbformat": 4,
 "nbformat_minor": 2
}
