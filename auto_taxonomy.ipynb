{
 "cells": [
  {
   "cell_type": "markdown",
   "metadata": {},
   "source": [
    "🖖🏼 Story of my life so far ...\n",
    "\n",
    "An autobiographical story-form graph visualization of my experience. The semantics are in the ➡️ relationships, as these are how we ascribe meaning to our lives. The magic happens in the transitions ➡️ between where we are and where we intend to go. \n",
    "\n",
    "Authored in markdown, video, JSON, python, and SVG."
   ]
  },
  {
   "cell_type": "code",
   "execution_count": 17,
   "metadata": {},
   "outputs": [
    {
     "name": "stdout",
     "output_type": "stream",
     "text": [
      "  provenance  qualified                bonus\n",
      "0    youtube       True                  NaN\n",
      "1     github       True                  NaN\n",
      "2   nlm umls      False  {'name': 'library'}\n"
     ]
    },
    {
     "data": {
      "text/html": [
       "<div>\n",
       "<style scoped>\n",
       "    .dataframe tbody tr th:only-of-type {\n",
       "        vertical-align: middle;\n",
       "    }\n",
       "\n",
       "    .dataframe tbody tr th {\n",
       "        vertical-align: top;\n",
       "    }\n",
       "\n",
       "    .dataframe thead th {\n",
       "        text-align: right;\n",
       "    }\n",
       "</style>\n",
       "<table border=\"1\" class=\"dataframe\">\n",
       "  <thead>\n",
       "    <tr style=\"text-align: right;\">\n",
       "      <th></th>\n",
       "      <th>provenance</th>\n",
       "      <th>uri</th>\n",
       "      <th>qualified</th>\n",
       "      <th>bonus</th>\n",
       "    </tr>\n",
       "  </thead>\n",
       "  <tbody>\n",
       "    <tr>\n",
       "      <th>0</th>\n",
       "      <td>youtube</td>\n",
       "      <td>youtube</td>\n",
       "      <td>True</td>\n",
       "      <td>NaN</td>\n",
       "    </tr>\n",
       "    <tr>\n",
       "      <th>1</th>\n",
       "      <td>github</td>\n",
       "      <td>github</td>\n",
       "      <td>True</td>\n",
       "      <td>NaN</td>\n",
       "    </tr>\n",
       "    <tr>\n",
       "      <th>2</th>\n",
       "      <td>nlm umls</td>\n",
       "      <td>nlm umls</td>\n",
       "      <td>False</td>\n",
       "      <td>{'name': 'library'}</td>\n",
       "    </tr>\n",
       "  </tbody>\n",
       "</table>\n",
       "</div>"
      ],
      "text/plain": [
       "  provenance       uri  qualified                bonus\n",
       "0    youtube   youtube       True                  NaN\n",
       "1     github    github       True                  NaN\n",
       "2   nlm umls  nlm umls      False  {'name': 'library'}"
      ]
     },
     "execution_count": 17,
     "metadata": {},
     "output_type": "execute_result"
    }
   ],
   "source": [
    "import pandas as pd\n",
    "\n",
    "# pd.read_json(\"sample.json\",lines=True,orient='columns')\n",
    "df = pd.read_json('data.json')\n",
    "# [[{Value1:1},{value2:2}],[{value3:3},{value4:4}],.....]\n",
    "# for data like so use\n",
    "# value1 = df['column_name'][0][0].get(Value1)\n",
    "newdf = df.drop(\"uri\",axis='columns')\n",
    "\n",
    "print(newdf)\n",
    "\n",
    "df.head()"
   ]
  }
 ],
 "metadata": {
  "kernelspec": {
   "display_name": "Python 3",
   "language": "python",
   "name": "python3"
  },
  "language_info": {
   "codemirror_mode": {
    "name": "ipython",
    "version": 3
   },
   "file_extension": ".py",
   "mimetype": "text/x-python",
   "name": "python",
   "nbconvert_exporter": "python",
   "pygments_lexer": "ipython3",
   "version": "3.10.11"
  },
  "orig_nbformat": 4
 },
 "nbformat": 4,
 "nbformat_minor": 2
}
